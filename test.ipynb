{
  "cells": [
    {
      "cell_type": "code",
      "execution_count": 1,
      "metadata": {},
      "outputs": [],
      "source": [
        "if (work>low_work_limit)&(work<high_work_limit)&(override=='bad')&(best_corr>best_corr_limit)&(ydiff<high_ydiff_limit):\n",
        " return 'good'\n",
        " else:\n",
        " return override\n"
       ]
    }
  ],
"metadata": {
        "language_info": {
          "name": "python",
          "pygments_lexer": "ipython3"
        }
      },
      "nbformat": 4,
      "nbformat_minor": 2
}
