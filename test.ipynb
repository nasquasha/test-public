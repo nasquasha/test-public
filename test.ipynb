{
"cells": [
{
   "cell_type": "code",
   "execution_count": 1,
   "metadata": {
    "collapsed": false,
    "jupyter": {
     "outputs_hidden": false
    }
   },
   "outputs": [],
   "source": [
    "a = 10"
   ]
  },
"nbformat": 4,
"nbformat_minor": 2
}
]
}
