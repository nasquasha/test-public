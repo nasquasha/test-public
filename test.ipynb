{
 "cells": [
  {
   "cell_type": "code",
   "execution_count": null,
   "metadata": {},
   "outputs": [],
   "source": [
      "if (work>low_work_limit)&(work<high_work_limit)&(override=='bad')&(best_corr>best_corr_limit)&(ydiff<high_ydiff_limit):\n",
      " return 'good'\n",
      " else:\n",
      " return override\n"
   ]
  }
 ],
 "metadata": {
  "kernelspec": {
   "display_name": "Python 3 (ipykernel)",
   "language": "python",
   "name": "python3"
  },
  "language_info": {
   "name": "python"
  }
 },
 "nbformat": 4,
 "nbformat_minor": 2
}
